{
 "cells": [
  {
   "cell_type": "code",
   "execution_count": 63,
   "metadata": {},
   "outputs": [
    {
     "name": "stderr",
     "output_type": "stream",
     "text": [
      "C:\\Users\\86182\\AppData\\Local\\Temp\\ipykernel_10192\\3480150110.py:69: VisibleDeprecationWarning: Creating an ndarray from ragged nested sequences (which is a list-or-tuple of lists-or-tuples-or ndarrays with different lengths or shapes) is deprecated. If you meant to do this, you must specify 'dtype=object' when creating the ndarray.\n",
      "  Result = np.array(Result)\n"
     ]
    },
    {
     "data": {
      "text/plain": [
       "(3, 9)"
      ]
     },
     "execution_count": 63,
     "metadata": {},
     "output_type": "execute_result"
    }
   ],
   "source": [
    "import re\n",
    "import os\n",
    "import numpy as np\n",
    "\n",
    "fs_all = []\n",
    "result_list = []\n",
    "Result = []\n",
    "algo = ['AB', 'EG', 'Elimination', 'SF', 'esSR', 'PSI', 'TS', 'UCB', 'US']\n",
    "# Get the file list\n",
    "file_path = './Exp_multiArm'\n",
    "fs = os.listdir(file_path)\n",
    "fs.sort()\n",
    "for i in range(len(fs)):\n",
    "    fs[i] = file_path + '/' + fs[i]\n",
    "    fs_fs = os.listdir(fs[i])\n",
    "    fs_fs.sort()\n",
    "    for j in range(len(fs_fs)):\n",
    "        fs_fs[j] = fs[i] + '/' + fs_fs[j]\n",
    "    fs_all.append(fs_fs)\n",
    "\n",
    "f_w = open('Result.txt', 'a')\n",
    "\n",
    "# Open the file and read the content\n",
    "for i in range(len(fs_all)):\n",
    "    result_j = []\n",
    "    for j in range(len(fs_all[i])):\n",
    "        with open(fs_all[i][j], 'r') as f:\n",
    "            content = f.read()\n",
    "            pattern = re.compile(r'Power=([\\d\\.]+)')\n",
    "            result = pattern.findall(content)\n",
    "            result_j.append(round(float(result[-1]), 3))\n",
    "    result_list.append(result_j)\n",
    "\n",
    "Result.append(result_list)\n",
    "\n",
    "result_list = []\n",
    "\n",
    "\n",
    "# Open the file and read the content\n",
    "for i in range(len(fs_all)):\n",
    "    result_j = []\n",
    "    for j in range(len(fs_all[i])):\n",
    "        with open(fs_all[i][j], 'r') as f:\n",
    "            content = f.read()\n",
    "            pattern = re.compile(r'arm = ([\\d\\.]+)')\n",
    "            result = pattern.findall(content)\n",
    "            result_j.append(round(float(result[-1]), 3))\n",
    "    result_list.append(result_j)\n",
    "\n",
    "Result.append(result_list)\n",
    "\n",
    "result_list = []\n",
    "\n",
    "\n",
    "\n",
    "# Open the file and read the content\n",
    "for i in range(len(fs_all)):\n",
    "    result_j = []\n",
    "    for j in range(len(fs_all[i])):\n",
    "        with open(fs_all[i][j], 'r') as f:\n",
    "            content = f.read()\n",
    "            pattern = re.compile(r'Regret = ([\\d\\.]+)')\n",
    "            result = pattern.findall(content)\n",
    "            result_j.append(round(float(result[-1]), 4))\n",
    "    result_list.append(result_j)\n",
    "\n",
    "Var_index = [7, 8, 9, 12, 13, 14, 15]\n",
    "\n",
    "for al in algo:\n",
    "    f_w.write(al + '\\n')\n",
    "\n",
    "Result.append(result_list)\n",
    "Result = np.array(Result)\n",
    "Result.shape"
   ]
  },
  {
   "cell_type": "code",
   "execution_count": 58,
   "metadata": {},
   "outputs": [
    {
     "data": {
      "text/plain": [
       "[[1]]"
      ]
     },
     "execution_count": 58,
     "metadata": {},
     "output_type": "execute_result"
    }
   ],
   "source": [
    "a = []\n",
    "a.append([1])\n",
    "a"
   ]
  }
 ],
 "metadata": {
  "kernelspec": {
   "display_name": "base",
   "language": "python",
   "name": "python3"
  },
  "language_info": {
   "codemirror_mode": {
    "name": "ipython",
    "version": 3
   },
   "file_extension": ".py",
   "mimetype": "text/x-python",
   "name": "python",
   "nbconvert_exporter": "python",
   "pygments_lexer": "ipython3",
   "version": "3.9.12"
  }
 },
 "nbformat": 4,
 "nbformat_minor": 2
}
