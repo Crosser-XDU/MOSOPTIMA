{
 "cells": [
  {
   "cell_type": "code",
   "execution_count": 2,
   "metadata": {},
   "outputs": [
    {
     "data": {
      "text/plain": [
       "['AB_Test',\n",
       " 'EG',\n",
       " 'Elimination',\n",
       " 'Elimination_SF',\n",
       " 'PSI',\n",
       " 'TS',\n",
       " 'UCB',\n",
       " 'US',\n",
       " 'esSR']"
      ]
     },
     "execution_count": 2,
     "metadata": {},
     "output_type": "execute_result"
    }
   ],
   "source": [
    "import os\n",
    "import numpy as np\n",
    "\n",
    "fs_all = []\n",
    "result_list = []\n",
    "Result = []\n",
    "algo = ['AB', 'EG', 'Elimination', 'SF', 'esSR', 'PSI', 'TS', 'UCB', 'US']\n",
    "# Get the file list\n",
    "file_path = './Exp_multiArm'\n",
    "fs = os.listdir(file_path)\n",
    "fs.sort()\n",
    "algo_name = fs.copy()\n",
    "for i in range(len(fs)):\n",
    "    fs[i] = file_path + '/' + fs[i]\n",
    "    fs_fs = os.listdir(fs[i])\n",
    "    fs_fs.sort()\n",
    "    for j in range(len(fs_fs)):\n",
    "        fs_fs[j] = fs[i] + '/' + fs_fs[j]\n",
    "    fs_all.append(fs_fs)\n",
    "algo_name"
   ]
  }
 ],
 "metadata": {
  "kernelspec": {
   "display_name": "base",
   "language": "python",
   "name": "python3"
  },
  "language_info": {
   "codemirror_mode": {
    "name": "ipython",
    "version": 3
   },
   "file_extension": ".py",
   "mimetype": "text/x-python",
   "name": "python",
   "nbconvert_exporter": "python",
   "pygments_lexer": "ipython3",
   "version": "3.9.12"
  }
 },
 "nbformat": 4,
 "nbformat_minor": 2
}
